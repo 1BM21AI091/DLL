{
  "nbformat": 4,
  "nbformat_minor": 0,
  "metadata": {
    "colab": {
      "provenance": []
    },
    "kernelspec": {
      "name": "python3",
      "display_name": "Python 3"
    },
    "language_info": {
      "name": "python"
    }
  },
  "cells": [
    {
      "cell_type": "code",
      "execution_count": 1,
      "metadata": {
        "id": "qKGIUTmEzljr"
      },
      "outputs": [],
      "source": [
        "import numpy as np\n",
        "import tensorflow as tf\n",
        "from tensorflow.keras.datasets import imdb\n",
        "from tensorflow.keras.preprocessing.sequence import pad_sequences\n",
        "from tensorflow.keras.models import Sequential\n",
        "from tensorflow.keras.layers import Embedding, SimpleRNN, Dense"
      ]
    },
    {
      "cell_type": "code",
      "source": [
        "max_features = 1000\n",
        "maxlen = 10\n",
        "\n",
        "(x_train, y_train), (x_test, y_test) = imdb.load_data(num_words=max_features)\n",
        "\n",
        "x_train = pad_sequences(x_train, maxlen=maxlen)\n",
        "x_test = pad_sequences(x_test, maxlen=maxlen)\n",
        "\n",
        "model = Sequential([\n",
        "    Embedding(max_features, 32),\n",
        "    SimpleRNN(32),\n",
        "    Dense(1, activation='sigmoid')\n",
        "])"
      ],
      "metadata": {
        "colab": {
          "base_uri": "https://localhost:8080/"
        },
        "id": "Y996kOihzpm6",
        "outputId": "db099312-9987-4994-ae62-b4167395dc64"
      },
      "execution_count": 2,
      "outputs": [
        {
          "output_type": "stream",
          "name": "stdout",
          "text": [
            "Downloading data from https://storage.googleapis.com/tensorflow/tf-keras-datasets/imdb.npz\n",
            "17464789/17464789 [==============================] - 0s 0us/step\n"
          ]
        }
      ]
    },
    {
      "cell_type": "code",
      "source": [
        "model.compile(optimizer='adam', loss='binary_crossentropy', metrics=['accuracy'])\n",
        "\n",
        "model.fit(x_train, y_train, epochs=5, batch_size=128, validation_split=0.2)\n",
        "\n",
        "loss, accuracy = model.evaluate(x_test, y_test)\n",
        "print(\"Test Accuracy:\", accuracy)"
      ],
      "metadata": {
        "colab": {
          "base_uri": "https://localhost:8080/"
        },
        "id": "1zKm07m2ztjz",
        "outputId": "02a33bd3-f1a9-48f5-d4b9-e9fe149cb138"
      },
      "execution_count": 3,
      "outputs": [
        {
          "output_type": "stream",
          "name": "stdout",
          "text": [
            "Epoch 1/5\n",
            "157/157 [==============================] - 5s 14ms/step - loss: 0.6272 - accuracy: 0.6341 - val_loss: 0.5797 - val_accuracy: 0.6854\n",
            "Epoch 2/5\n",
            "157/157 [==============================] - 1s 7ms/step - loss: 0.5444 - accuracy: 0.7168 - val_loss: 0.5710 - val_accuracy: 0.6944\n",
            "Epoch 3/5\n",
            "157/157 [==============================] - 1s 7ms/step - loss: 0.5088 - accuracy: 0.7436 - val_loss: 0.5889 - val_accuracy: 0.6854\n",
            "Epoch 4/5\n",
            "157/157 [==============================] - 1s 6ms/step - loss: 0.4755 - accuracy: 0.7692 - val_loss: 0.6027 - val_accuracy: 0.6718\n",
            "Epoch 5/5\n",
            "157/157 [==============================] - 1s 7ms/step - loss: 0.4433 - accuracy: 0.7899 - val_loss: 0.6299 - val_accuracy: 0.6784\n",
            "782/782 [==============================] - 2s 2ms/step - loss: 0.6432 - accuracy: 0.6748\n",
            "Test Accuracy: 0.6747599840164185\n"
          ]
        }
      ]
    },
    {
      "cell_type": "code",
      "source": [
        "def predict_sentiment(text, model, maxlen=maxlen):\n",
        "    tokens = imdb.get_word_index()\n",
        "    tokens = {k: (v + 3) for k, v in tokens.items()}\n",
        "    tokens[\"<PAD>\"] = 0\n",
        "    tokens[\"<START>\"] = 1\n",
        "    tokens[\"<UNK>\"] = 2\n",
        "    tokens[\"<UNUSED>\"] = 3\n",
        "\n",
        "    reverse_tokens = dict([(value, key) for (key, value) in tokens.items()])\n",
        "\n",
        "    sequence = [tokens.get(word, tokens[\"<UNK>\"]) for word in text.split()]\n",
        "    sequence = pad_sequences([sequence], maxlen=maxlen)\n",
        "\n",
        "    prediction = model.predict(sequence)[0, 0]\n",
        "    sentiment = \"positive\" if prediction >= 0.5 else \"negative\"\n",
        "    return sentiment, prediction"
      ],
      "metadata": {
        "id": "2Zqjyp-WzwC7"
      },
      "execution_count": 4,
      "outputs": []
    },
    {
      "cell_type": "code",
      "source": [
        "text1 = \"This movie was great! I really enjoyed it.\"\n",
        "text2 = \"The acting was terrible and the plot was boring.\"\n",
        "sentiment1, score1 = predict_sentiment(text1, model)\n",
        "sentiment2, score2 = predict_sentiment(text2, model)\n",
        "\n",
        "print(f\"Text: '{text1}' | Sentiment: {sentiment1} | Score: {score1:.4f}\")\n",
        "print(f\"Text: '{text2}' | Sentiment: {sentiment2} | Score: {score2:.4f}\")"
      ],
      "metadata": {
        "colab": {
          "base_uri": "https://localhost:8080/"
        },
        "id": "1NEkfaS6zx27",
        "outputId": "5f2bf9ff-4682-4095-db65-34012717e065"
      },
      "execution_count": 5,
      "outputs": [
        {
          "output_type": "stream",
          "name": "stdout",
          "text": [
            "Downloading data from https://storage.googleapis.com/tensorflow/tf-keras-datasets/imdb_word_index.json\n",
            "1641221/1641221 [==============================] - 0s 0us/step\n",
            "1/1 [==============================] - 0s 293ms/step\n",
            "1/1 [==============================] - 0s 30ms/step\n",
            "Text: 'This movie was great! I really enjoyed it.' | Sentiment: positive | Score: 0.5840\n",
            "Text: 'The acting was terrible and the plot was boring.' | Sentiment: negative | Score: 0.0727\n"
          ]
        }
      ]
    },
    {
      "cell_type": "code",
      "source": [],
      "metadata": {
        "id": "A4OZcbDvz0zT"
      },
      "execution_count": null,
      "outputs": []
    }
  ]
}